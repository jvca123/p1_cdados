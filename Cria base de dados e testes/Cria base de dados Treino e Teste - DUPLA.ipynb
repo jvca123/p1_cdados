{
 "cells": [
  {
   "cell_type": "markdown",
   "metadata": {},
   "source": [
    "## [**ChatGPT Classification - Kaggle**](https://www.kaggle.com/datasets/mahdimaktabdar/chatgpt-classification-dataset)\n",
    "\n",
    "### Contexto e Conjunto de Dados\n",
    "\n",
    "O conjunto de dados foi compilado com artigos textuais que contêm terminologia, conceitos e definições nas áreas de ciência da computação, inteligência artificial e cibersegurança. <br>\n",
    "Ele inclui textos **gerados por humanos** e pelo **ChatGPT da OpenAI**.<br>\n",
    "Os textos humanos foram extraídos de dicionários e enciclopédias, como The Encyclopedia of Computer Science and Technology e Encyclopedia of Human-Computer Interaction. Já os textos gerados por IA foram obtidos a partir de respostas do ChatGPT. <br>\n",
    "\n",
    "Para fins de classificação binária, as 7344 sentenças foram divididas da seguinte forma:\n",
    "\n",
    "- **4008 sentenças de IA, identificados na coluna `class` igual a 0**\n",
    "- **3336 setenças de humanos, identificados na coluna `class` igual a 1**\n",
    "- **Biologia**\n",
    "\n",
    "<br> \n",
    "\n",
    "\n",
    "### ATENÇÃO: <br> $\\quad$* Como você está em um grupo com no MÁXIMO DOIS alunos, este Jupyter irá fornecer um arquivo contendo uma amostra de sentenças de acordo com seu username.  <br>  $\\quad$* Basta um arquivo por grupo.\n",
    "\n",
    "<br>\n",
    "\n",
    "### Referência Bibliográfica\n",
    "Maktab Dar Oghaz, M., Dhame, K., Singaram, G., & Babu Saheer, L. (2023). Detection and Classification of ChatGPT Generated Contents Using Deep Transformer Models. IEEEAccess.\n",
    "https://www.techrxiv.org/articles/preprint/Detection_and_Classification_of_ChatGPT_Generated_Contents_Using_Deep_Transformer_Models/23895951"
   ]
  },
  {
   "cell_type": "code",
   "execution_count": 2,
   "metadata": {},
   "outputs": [],
   "source": [
    "import pandas as pd\n",
    "import random\n",
    "import os\n",
    "from sklearn.model_selection import train_test_split"
   ]
  },
  {
   "cell_type": "code",
   "execution_count": 4,
   "metadata": {},
   "outputs": [],
   "source": [
    "# Transforma string em inteiro\n",
    "def nome_para_inteiro(nome):\n",
    "    nome = nome.upper()  # Converter para maiúsculas para tratar maiúsculas e minúsculas da mesma forma\n",
    "    valor_inteiro = 0\n",
    "    \n",
    "    for letra in nome:\n",
    "        # Verificar se a letra está no alfabeto (A a Z)\n",
    "        if 'A' <= letra <= 'Z':\n",
    "            valor_inteiro += ord(letra) - ord('A') + 1  # Valor de 'A' é 1, 'B' é 2, ..., 'Z' é 26\n",
    "    \n",
    "    return valor_inteiro"
   ]
  },
  {
   "cell_type": "code",
   "execution_count": 5,
   "metadata": {
    "scrolled": true
   },
   "outputs": [
    {
     "data": {
      "text/plain": [
       "['.ipynb_checkpoints',\n",
       " 'Cria base de dados Treino e Teste - DUPLA.ipynb',\n",
       " 'sentence_level_data.csv']"
      ]
     },
     "execution_count": 5,
     "metadata": {},
     "output_type": "execute_result"
    }
   ],
   "source": [
    "os.listdir()"
   ]
  },
  {
   "cell_type": "code",
   "execution_count": 6,
   "metadata": {},
   "outputs": [
    {
     "data": {
      "text/html": [
       "<div>\n",
       "<style scoped>\n",
       "    .dataframe tbody tr th:only-of-type {\n",
       "        vertical-align: middle;\n",
       "    }\n",
       "\n",
       "    .dataframe tbody tr th {\n",
       "        vertical-align: top;\n",
       "    }\n",
       "\n",
       "    .dataframe thead th {\n",
       "        text-align: right;\n",
       "    }\n",
       "</style>\n",
       "<table border=\"1\" class=\"dataframe\">\n",
       "  <thead>\n",
       "    <tr style=\"text-align: right;\">\n",
       "      <th></th>\n",
       "      <th>sentence</th>\n",
       "      <th>target</th>\n",
       "    </tr>\n",
       "  </thead>\n",
       "  <tbody>\n",
       "    <tr>\n",
       "      <th>0</th>\n",
       "      <td>NLP is a multidisciplinary field that draws fr...</td>\n",
       "      <td>HG</td>\n",
       "    </tr>\n",
       "    <tr>\n",
       "      <th>1</th>\n",
       "      <td>In terms of linguistics, a program must be abl...</td>\n",
       "      <td>HG</td>\n",
       "    </tr>\n",
       "    <tr>\n",
       "      <th>2</th>\n",
       "      <td>Of course each language has its own forms of a...</td>\n",
       "      <td>HG</td>\n",
       "    </tr>\n",
       "    <tr>\n",
       "      <th>3</th>\n",
       "      <td>Programs can use several strategies for dealin...</td>\n",
       "      <td>HG</td>\n",
       "    </tr>\n",
       "    <tr>\n",
       "      <th>4</th>\n",
       "      <td>As formidable as the task of extracting the co...</td>\n",
       "      <td>HG</td>\n",
       "    </tr>\n",
       "  </tbody>\n",
       "</table>\n",
       "</div>"
      ],
      "text/plain": [
       "                                            sentence target\n",
       "0  NLP is a multidisciplinary field that draws fr...     HG\n",
       "1  In terms of linguistics, a program must be abl...     HG\n",
       "2  Of course each language has its own forms of a...     HG\n",
       "3  Programs can use several strategies for dealin...     HG\n",
       "4  As formidable as the task of extracting the co...     HG"
      ]
     },
     "execution_count": 6,
     "metadata": {},
     "output_type": "execute_result"
    }
   ],
   "source": [
    "# Ler o arquivo de dados \n",
    "dados = pd.read_csv('sentence_level_data.csv', encoding='utf-8-sig').iloc[:,1:]\n",
    "\n",
    "#Human-generated = 0 and AI-generated = 1\n",
    "dados.loc[dados['class']==0,'target'] = 'HG'\n",
    "dados.loc[dados['class']==1,'target'] = 'AI'\n",
    "dados.drop(columns=['class'], inplace=True)\n",
    "\n",
    "# Visualização dos dados\n",
    "dados.head()"
   ]
  },
  {
   "cell_type": "code",
   "execution_count": 7,
   "metadata": {},
   "outputs": [
    {
     "name": "stdout",
     "output_type": "stream",
     "text": [
      "\n",
      " Frequências de cada rótulo nos DADOS COMPLETO: \n",
      " target\n",
      "AI    4008\n",
      "HG    3336\n",
      "Name: count, dtype: int64\n"
     ]
    }
   ],
   "source": [
    "print(\"\\n\",\n",
    "      \"Frequências de cada rótulo nos DADOS COMPLETO: \\n\",\n",
    "      dados.target.value_counts())"
   ]
  },
  {
   "cell_type": "markdown",
   "metadata": {},
   "source": [
    "--------\n",
    "### ATENÇÃO: <p> Aqui você deverá colocar seu username para construção da sua base de dados a ser usada no Projeto 1"
   ]
  },
  {
   "cell_type": "code",
   "execution_count": 9,
   "metadata": {
    "scrolled": true
   },
   "outputs": [
    {
     "name": "stdin",
     "output_type": "stream",
     "text": [
      "Digite seu username do Insper:  joaovca3\n"
     ]
    }
   ],
   "source": [
    "nome = input(\"Digite seu username do Insper: \")\n",
    "valor_inteiro = nome_para_inteiro(nome)"
   ]
  },
  {
   "cell_type": "code",
   "execution_count": 10,
   "metadata": {},
   "outputs": [
    {
     "data": {
      "text/html": [
       "<div>\n",
       "<style scoped>\n",
       "    .dataframe tbody tr th:only-of-type {\n",
       "        vertical-align: middle;\n",
       "    }\n",
       "\n",
       "    .dataframe tbody tr th {\n",
       "        vertical-align: top;\n",
       "    }\n",
       "\n",
       "    .dataframe thead th {\n",
       "        text-align: right;\n",
       "    }\n",
       "</style>\n",
       "<table border=\"1\" class=\"dataframe\">\n",
       "  <thead>\n",
       "    <tr style=\"text-align: right;\">\n",
       "      <th></th>\n",
       "      <th>sentence</th>\n",
       "      <th>target</th>\n",
       "    </tr>\n",
       "  </thead>\n",
       "  <tbody>\n",
       "    <tr>\n",
       "      <th>0</th>\n",
       "      <td>It is the use and management of cryptographic ...</td>\n",
       "      <td>HG</td>\n",
       "    </tr>\n",
       "    <tr>\n",
       "      <th>1</th>\n",
       "      <td>ASCII defines a set of 128 characters, includi...</td>\n",
       "      <td>AI</td>\n",
       "    </tr>\n",
       "    <tr>\n",
       "      <th>2</th>\n",
       "      <td>Load balancing can help ensure that a system r...</td>\n",
       "      <td>AI</td>\n",
       "    </tr>\n",
       "    <tr>\n",
       "      <th>3</th>\n",
       "      <td>The 32-bit color system provides the same numb...</td>\n",
       "      <td>HG</td>\n",
       "    </tr>\n",
       "    <tr>\n",
       "      <th>4</th>\n",
       "      <td>, A bulletin board where users can share solut...</td>\n",
       "      <td>HG</td>\n",
       "    </tr>\n",
       "  </tbody>\n",
       "</table>\n",
       "</div>"
      ],
      "text/plain": [
       "                                            sentence target\n",
       "0  It is the use and management of cryptographic ...     HG\n",
       "1  ASCII defines a set of 128 characters, includi...     AI\n",
       "2  Load balancing can help ensure that a system r...     AI\n",
       "3  The 32-bit color system provides the same numb...     HG\n",
       "4  , A bulletin board where users can share solut...     HG"
      ]
     },
     "execution_count": 10,
     "metadata": {},
     "output_type": "execute_result"
    }
   ],
   "source": [
    "# Separar as classes\n",
    "dados_hg = dados[dados['target'] == 'HG'].sample(n=1200, random_state=valor_inteiro)  # 1200 amostras de HG\n",
    "dados_ai = dados[dados['target'] == 'AI'].sample(n=1200, random_state=valor_inteiro)  # 1200 amostras de AI\n",
    "\n",
    "# Combinar as amostras e embaralhar\n",
    "dados_amostrados = pd.concat([dados_hg, dados_ai]).sample(frac=1, random_state=valor_inteiro).reset_index(drop=True)  # Embaralhar\n",
    "\n",
    "# Exibir as primeiras linhas\n",
    "dados_amostrados.head()"
   ]
  },
  {
   "cell_type": "code",
   "execution_count": 16,
   "metadata": {},
   "outputs": [],
   "source": [
    "# Separar os dados de treino e teste \n",
    "X = dados_amostrados.sentence\n",
    "y = dados_amostrados.target\n",
    "X_train, X_test, y_train, y_test = train_test_split(X, y, test_size=0.30, random_state=valor_inteiro)\n",
    "\n",
    "dados_treino = pd.concat([X_train, y_train],axis=1)\n",
    "dados_treino.columns = ['sentence', 'target']\n",
    "dados_teste = pd.concat([X_test, y_test],axis=1)\n",
    "dados_teste.columns = ['sentence', 'target']\n",
    "   "
   ]
  },
  {
   "cell_type": "code",
   "execution_count": 17,
   "metadata": {
    "scrolled": true
   },
   "outputs": [
    {
     "name": "stdout",
     "output_type": "stream",
     "text": [
      "\n",
      " Frequências de cada rótulo nos DADOS TREINAMENTO: \n",
      " target\n",
      "HG    837\n",
      "AI    843\n",
      "Name: count, dtype: int64 \n",
      "\n",
      "sort=False Frequências de cada rótulo nos DADOS TESTE: \n",
      " target\n",
      "HG    363\n",
      "AI    357\n",
      "Name: count, dtype: int64\n"
     ]
    }
   ],
   "source": [
    "print(\"\\n\",\n",
    "      \"Frequências de cada rótulo nos DADOS TREINAMENTO: \\n\",\n",
    "      dados_treino.target.value_counts(sort=False), \"\\n\\nsort=False\",\n",
    "      \"Frequências de cada rótulo nos DADOS TESTE: \\n\",\n",
    "      dados_teste.target.value_counts(sort=False))"
   ]
  },
  {
   "cell_type": "code",
   "execution_count": 18,
   "metadata": {},
   "outputs": [
    {
     "name": "stdout",
     "output_type": "stream",
     "text": [
      "Dados de treino e teste foram salvos em 'dados_treino_so_DUPLA_joaovca3.csv' e 'dados_teste_so_DUPLA_joaovca3.csv'.\n"
     ]
    }
   ],
   "source": [
    "# Salvar os dados de treino e teste em arquivos CSV\n",
    "nome_arquivo_treino = 'dados_treino_so_DUPLA_'+nome+'.csv'\n",
    "nome_arquivo_teste = 'dados_teste_so_DUPLA_'+nome+'.csv'\n",
    "\n",
    "dados_treino.to_csv(nome_arquivo_treino,index = False, header=True)\n",
    "dados_teste.to_csv(nome_arquivo_teste, index=False)#, engine='xlsxwriter')\n",
    "\n",
    "print(f\"Dados de treino e teste foram salvos em '{nome_arquivo_treino}' e '{nome_arquivo_teste}'.\")"
   ]
  },
  {
   "cell_type": "code",
   "execution_count": 19,
   "metadata": {},
   "outputs": [
    {
     "data": {
      "text/html": [
       "<div>\n",
       "<style scoped>\n",
       "    .dataframe tbody tr th:only-of-type {\n",
       "        vertical-align: middle;\n",
       "    }\n",
       "\n",
       "    .dataframe tbody tr th {\n",
       "        vertical-align: top;\n",
       "    }\n",
       "\n",
       "    .dataframe thead th {\n",
       "        text-align: right;\n",
       "    }\n",
       "</style>\n",
       "<table border=\"1\" class=\"dataframe\">\n",
       "  <thead>\n",
       "    <tr style=\"text-align: right;\">\n",
       "      <th></th>\n",
       "      <th>sentence</th>\n",
       "      <th>target</th>\n",
       "    </tr>\n",
       "  </thead>\n",
       "  <tbody>\n",
       "    <tr>\n",
       "      <th>0</th>\n",
       "      <td>(This is an ad hoc connection that differs fro...</td>\n",
       "      <td>HG</td>\n",
       "    </tr>\n",
       "    <tr>\n",
       "      <th>1</th>\n",
       "      <td>Online advertising allows businesses to reach ...</td>\n",
       "      <td>AI</td>\n",
       "    </tr>\n",
       "    <tr>\n",
       "      <th>2</th>\n",
       "      <td>Here are some of the common security and priva...</td>\n",
       "      <td>AI</td>\n",
       "    </tr>\n",
       "    <tr>\n",
       "      <th>3</th>\n",
       "      <td>(In many ways Forth anticipated the principles...</td>\n",
       "      <td>HG</td>\n",
       "    </tr>\n",
       "    <tr>\n",
       "      <th>4</th>\n",
       "      <td>is a method used for dynamic web sites/pages t...</td>\n",
       "      <td>HG</td>\n",
       "    </tr>\n",
       "    <tr>\n",
       "      <th>...</th>\n",
       "      <td>...</td>\n",
       "      <td>...</td>\n",
       "    </tr>\n",
       "    <tr>\n",
       "      <th>1675</th>\n",
       "      <td>This step involves using ontology editors or m...</td>\n",
       "      <td>AI</td>\n",
       "    </tr>\n",
       "    <tr>\n",
       "      <th>1676</th>\n",
       "      <td>1.</td>\n",
       "      <td>HG</td>\n",
       "    </tr>\n",
       "    <tr>\n",
       "      <th>1677</th>\n",
       "      <td>The open-source software movement also played ...</td>\n",
       "      <td>AI</td>\n",
       "    </tr>\n",
       "    <tr>\n",
       "      <th>1678</th>\n",
       "      <td>For example, if a coin is flipped, the probabi...</td>\n",
       "      <td>AI</td>\n",
       "    </tr>\n",
       "    <tr>\n",
       "      <th>1679</th>\n",
       "      <td>Compilers are useful because programming direc...</td>\n",
       "      <td>HG</td>\n",
       "    </tr>\n",
       "  </tbody>\n",
       "</table>\n",
       "<p>1680 rows × 2 columns</p>\n",
       "</div>"
      ],
      "text/plain": [
       "                                               sentence target\n",
       "0     (This is an ad hoc connection that differs fro...     HG\n",
       "1     Online advertising allows businesses to reach ...     AI\n",
       "2     Here are some of the common security and priva...     AI\n",
       "3     (In many ways Forth anticipated the principles...     HG\n",
       "4     is a method used for dynamic web sites/pages t...     HG\n",
       "...                                                 ...    ...\n",
       "1675  This step involves using ontology editors or m...     AI\n",
       "1676                                                 1.     HG\n",
       "1677  The open-source software movement also played ...     AI\n",
       "1678  For example, if a coin is flipped, the probabi...     AI\n",
       "1679  Compilers are useful because programming direc...     HG\n",
       "\n",
       "[1680 rows x 2 columns]"
      ]
     },
     "execution_count": 19,
     "metadata": {},
     "output_type": "execute_result"
    }
   ],
   "source": [
    "# COMANDO QUE DEVE COLOCAR NO TEMPLATE Projeto1_Template.ipynb para LER a base de dados TREINO\n",
    "# Faça adaptações digitando o nome (username) considerado\n",
    "pd.read_csv('dados_treino_so_DUPLA_'+nome+'.csv')"
   ]
  },
  {
   "cell_type": "code",
   "execution_count": 20,
   "metadata": {
    "scrolled": true
   },
   "outputs": [
    {
     "data": {
      "text/html": [
       "<div>\n",
       "<style scoped>\n",
       "    .dataframe tbody tr th:only-of-type {\n",
       "        vertical-align: middle;\n",
       "    }\n",
       "\n",
       "    .dataframe tbody tr th {\n",
       "        vertical-align: top;\n",
       "    }\n",
       "\n",
       "    .dataframe thead th {\n",
       "        text-align: right;\n",
       "    }\n",
       "</style>\n",
       "<table border=\"1\" class=\"dataframe\">\n",
       "  <thead>\n",
       "    <tr style=\"text-align: right;\">\n",
       "      <th></th>\n",
       "      <th>sentence</th>\n",
       "      <th>target</th>\n",
       "    </tr>\n",
       "  </thead>\n",
       "  <tbody>\n",
       "    <tr>\n",
       "      <th>0</th>\n",
       "      <td>Today Java applets rep-resent the most widespr...</td>\n",
       "      <td>HG</td>\n",
       "    </tr>\n",
       "    <tr>\n",
       "      <th>1</th>\n",
       "      <td>The authentication can occur between client an...</td>\n",
       "      <td>HG</td>\n",
       "    </tr>\n",
       "    <tr>\n",
       "      <th>2</th>\n",
       "      <td>These early systems were limited in their accu...</td>\n",
       "      <td>AI</td>\n",
       "    </tr>\n",
       "    <tr>\n",
       "      <th>3</th>\n",
       "      <td>BAT extension.</td>\n",
       "      <td>HG</td>\n",
       "    </tr>\n",
       "    <tr>\n",
       "      <th>4</th>\n",
       "      <td>Advertisers can track and measure the performa...</td>\n",
       "      <td>AI</td>\n",
       "    </tr>\n",
       "    <tr>\n",
       "      <th>...</th>\n",
       "      <td>...</td>\n",
       "      <td>...</td>\n",
       "    </tr>\n",
       "    <tr>\n",
       "      <th>715</th>\n",
       "      <td>The disc is coated with a thin layer of alumin...</td>\n",
       "      <td>AI</td>\n",
       "    </tr>\n",
       "    <tr>\n",
       "      <th>716</th>\n",
       "      <td>When the IDS detects a signature match, it gen...</td>\n",
       "      <td>AI</td>\n",
       "    </tr>\n",
       "    <tr>\n",
       "      <th>717</th>\n",
       "      <td>The  Forth  system  con-sists  of  a  collecti...</td>\n",
       "      <td>HG</td>\n",
       "    </tr>\n",
       "    <tr>\n",
       "      <th>718</th>\n",
       "      <td>This can be useful for understanding how a pro...</td>\n",
       "      <td>AI</td>\n",
       "    </tr>\n",
       "    <tr>\n",
       "      <th>719</th>\n",
       "      <td>HTTPS (HTTP Secure): A secure version of HTTP ...</td>\n",
       "      <td>AI</td>\n",
       "    </tr>\n",
       "  </tbody>\n",
       "</table>\n",
       "<p>720 rows × 2 columns</p>\n",
       "</div>"
      ],
      "text/plain": [
       "                                              sentence target\n",
       "0    Today Java applets rep-resent the most widespr...     HG\n",
       "1    The authentication can occur between client an...     HG\n",
       "2    These early systems were limited in their accu...     AI\n",
       "3                                       BAT extension.     HG\n",
       "4    Advertisers can track and measure the performa...     AI\n",
       "..                                                 ...    ...\n",
       "715  The disc is coated with a thin layer of alumin...     AI\n",
       "716  When the IDS detects a signature match, it gen...     AI\n",
       "717  The  Forth  system  con-sists  of  a  collecti...     HG\n",
       "718  This can be useful for understanding how a pro...     AI\n",
       "719  HTTPS (HTTP Secure): A secure version of HTTP ...     AI\n",
       "\n",
       "[720 rows x 2 columns]"
      ]
     },
     "execution_count": 20,
     "metadata": {},
     "output_type": "execute_result"
    }
   ],
   "source": [
    "# COMANDO QUE DEVE COLOCAR NO TEMPLATE Projeto1_Template.ipynb para LER a base de dados TESTE\n",
    "# Faça adaptações digitando o nome (username) considerado\n",
    "pd.read_csv('dados_teste_so_DUPLA_'+nome+'.csv')"
   ]
  }
 ],
 "metadata": {
  "kernelspec": {
   "display_name": "Python 3 (ipykernel)",
   "language": "python",
   "name": "python3"
  },
  "language_info": {
   "codemirror_mode": {
    "name": "ipython",
    "version": 3
   },
   "file_extension": ".py",
   "mimetype": "text/x-python",
   "name": "python",
   "nbconvert_exporter": "python",
   "pygments_lexer": "ipython3",
   "version": "3.12.5"
  }
 },
 "nbformat": 4,
 "nbformat_minor": 4
}
